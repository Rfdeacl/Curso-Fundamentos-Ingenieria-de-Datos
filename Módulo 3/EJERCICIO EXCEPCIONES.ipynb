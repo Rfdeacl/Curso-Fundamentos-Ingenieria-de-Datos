{
 "cells": [
  {
   "cell_type": "code",
   "id": "initial_id",
   "metadata": {
    "collapsed": true,
    "ExecuteTime": {
     "end_time": "2025-06-13T22:55:24.852583Z",
     "start_time": "2025-06-13T22:55:24.847217Z"
    }
   },
   "source": [
    "def calculadora():\n",
    "    try:\n",
    "        # Solicitar los números al usuario\n",
    "        num1 = float(input(\"Ingresa el primer número: \"))\n",
    "        num2 = float(input(\"Ingresa el segundo número: \"))\n",
    "        # Solicitar el operador\n",
    "        operador = input(\"Ingresa la operación (+, -, *, /): \")\n",
    "        # Realizar la operación según el operador ingresado\n",
    "        if operador == \"+\":\n",
    "         resultado = num1 + num2\n",
    "        elif operador == \"-\":\n",
    "         resultado = num1 - num2\n",
    "        elif operador == \"*\":\n",
    "         resultado = num1 * num2\n",
    "        elif operador == \"/\":\n",
    "        # Manejo de división por cero\n",
    "            if num2 == 0:\n",
    "                raise ZeroDivisionError(\"No se puede dividir por cero\")\n",
    "        resultado = num1 / num2\n",
    "        else:\n",
    "            raise ValueError(\"Operador no válido. Usa +, -, * o /.\")\n",
    "            print(f\"El resultado de {num1} {operador} {num2} es:\n",
    "            {resultado}\")\n",
    "        except ValueError as ve:\n",
    "            print(f\"Error de valor: {ve}\")\n",
    "        except ZeroDivisionError as zde:\n",
    "            print(f\"Error de división: {zde}\")\n",
    "        finally:\n",
    "            print(\"Operación finalizada.\")\n",
    "                # Ejecutar la calculadora\n"
   ],
   "outputs": [
    {
     "ename": "SyntaxError",
     "evalue": "invalid syntax (2900661570.py, line 20)",
     "output_type": "error",
     "traceback": [
      "  \u001B[36mCell\u001B[39m\u001B[36m \u001B[39m\u001B[32mIn[15]\u001B[39m\u001B[32m, line 20\u001B[39m\n\u001B[31m    \u001B[39m\u001B[31melse:\u001B[39m\n    ^\n\u001B[31mSyntaxError\u001B[39m\u001B[31m:\u001B[39m invalid syntax\n"
     ]
    }
   ],
   "execution_count": 15
  },
  {
   "metadata": {},
   "cell_type": "code",
   "outputs": [],
   "execution_count": null,
   "source": "",
   "id": "aa380d84d8556f1c"
  }
 ],
 "metadata": {
  "kernelspec": {
   "display_name": "Python 3",
   "language": "python",
   "name": "python3"
  },
  "language_info": {
   "codemirror_mode": {
    "name": "ipython",
    "version": 2
   },
   "file_extension": ".py",
   "mimetype": "text/x-python",
   "name": "python",
   "nbconvert_exporter": "python",
   "pygments_lexer": "ipython2",
   "version": "2.7.6"
  }
 },
 "nbformat": 4,
 "nbformat_minor": 5
}
