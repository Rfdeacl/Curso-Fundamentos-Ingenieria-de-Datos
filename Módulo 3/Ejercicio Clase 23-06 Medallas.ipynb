{
 "cells": [
  {
   "cell_type": "code",
   "id": "initial_id",
   "metadata": {
    "collapsed": true,
    "ExecuteTime": {
     "end_time": "2025-06-24T01:43:44.410692Z",
     "start_time": "2025-06-24T01:43:44.406746Z"
    }
   },
   "source": "import pandas as pd",
   "outputs": [],
   "execution_count": 8
  },
  {
   "metadata": {
    "ExecuteTime": {
     "end_time": "2025-06-24T01:43:44.437738Z",
     "start_time": "2025-06-24T01:43:44.426175Z"
    }
   },
   "cell_type": "code",
   "source": [
    "\"\"\"Leer Archivo CSV\"\"\"\n",
    "medallas =pd.read_csv(\"medallas.csv\")\n",
    "print(medallas.head())\n",
    "print(medallas.info())"
   ],
   "id": "1805bb1d21e75914",
   "outputs": [
    {
     "name": "stdout",
     "output_type": "stream",
     "text": [
      "    Oro  Plata  Bronce  Total        Pais\n",
      "0   NaN    1.0     2.0      3   Argentina\n",
      "1   NaN    2.0     2.0      4     Armenia\n",
      "2  17.0    7.0    22.0     46   Australia\n",
      "3   1.0    1.0     5.0      7     Austria\n",
      "4   NaN    3.0     4.0      7  Azerbaijan\n",
      "<class 'pandas.core.frame.DataFrame'>\n",
      "RangeIndex: 93 entries, 0 to 92\n",
      "Data columns (total 5 columns):\n",
      " #   Column  Non-Null Count  Dtype  \n",
      "---  ------  --------------  -----  \n",
      " 0   Oro     65 non-null     float64\n",
      " 1   Plata   69 non-null     float64\n",
      " 2   Bronce  76 non-null     float64\n",
      " 3   Total   93 non-null     int64  \n",
      " 4   Pais    93 non-null     object \n",
      "dtypes: float64(3), int64(1), object(1)\n",
      "memory usage: 3.8+ KB\n",
      "None\n"
     ]
    }
   ],
   "execution_count": 9
  },
  {
   "metadata": {
    "ExecuteTime": {
     "end_time": "2025-06-24T01:43:44.483482Z",
     "start_time": "2025-06-24T01:43:44.473704Z"
    }
   },
   "cell_type": "code",
   "source": [
    "\"\"\"Descripción estadistica de la BD\"\"\"\n",
    "print(medallas.describe())"
   ],
   "id": "66240b006a53f32e",
   "outputs": [
    {
     "name": "stdout",
     "output_type": "stream",
     "text": [
      "             Oro      Plata     Bronce       Total\n",
      "count  65.000000  69.000000  76.000000   93.000000\n",
      "mean    4.400000   4.768116   4.934211   10.548387\n",
      "std     7.633806   7.276362   6.261705   18.897617\n",
      "min     1.000000   1.000000   1.000000    1.000000\n",
      "25%     1.000000   1.000000   1.000000    2.000000\n",
      "50%     2.000000   2.000000   2.000000    4.000000\n",
      "75%     3.000000   5.000000   5.250000    8.000000\n",
      "max    39.000000  41.000000  33.000000  113.000000\n"
     ]
    }
   ],
   "execution_count": 10
  },
  {
   "metadata": {
    "ExecuteTime": {
     "end_time": "2025-06-24T01:43:44.528500Z",
     "start_time": "2025-06-24T01:43:44.522143Z"
    }
   },
   "cell_type": "code",
   "source": [
    "\"\"\"Renombrado de columnas\"\"\"\n",
    "medallas_renombrado =pd.read_csv(\"medallas.csv\",header=None,names=[\"Gold\",\"Silver\",\"Bronze\",\"Total\",\"Country\"])\n",
    "print(medallas_renombrado.head())"
   ],
   "id": "5f32baab9f764645",
   "outputs": [
    {
     "name": "stdout",
     "output_type": "stream",
     "text": [
      "  Gold Silver  Bronze  Total    Country\n",
      "0  Oro  Plata  Bronce  Total       Pais\n",
      "1  NaN      1       2      3  Argentina\n",
      "2  NaN      2       2      4    Armenia\n",
      "3   17      7      22     46  Australia\n",
      "4    1      1       5      7    Austria\n"
     ]
    }
   ],
   "execution_count": 11
  },
  {
   "metadata": {
    "ExecuteTime": {
     "end_time": "2025-06-24T01:43:44.590373Z",
     "start_time": "2025-06-24T01:43:44.584728Z"
    }
   },
   "cell_type": "code",
   "source": [
    "\"\"\"Sumatoria de Valores Nulos\"\"\"\n",
    "print(medallas_renombrado.isnull().sum())"
   ],
   "id": "310feff90cf32a8d",
   "outputs": [
    {
     "name": "stdout",
     "output_type": "stream",
     "text": [
      "Gold       28\n",
      "Silver     24\n",
      "Bronze     17\n",
      "Total       0\n",
      "Country     0\n",
      "dtype: int64\n",
      "Gold       28\n",
      "Silver     24\n",
      "Bronze     17\n",
      "Total       0\n",
      "Country     0\n",
      "dtype: int64\n"
     ]
    }
   ],
   "execution_count": 12
  },
  {
   "metadata": {
    "ExecuteTime": {
     "end_time": "2025-06-24T01:43:45.773787Z",
     "start_time": "2025-06-24T01:43:45.766641Z"
    }
   },
   "cell_type": "code",
   "source": [
    "\"\"\"Tratamiento de Valores NULOS\"\"\"\n",
    " =pd.read_csv(\"medallas.csv\",header=None,names=[\"Gold\",\"Silver\",\"Bronze\",\"Total\",\"Country\"],na_values=[\"NaN\"])\n",
    "print(medallas_renombrado.isnull().sum())"
   ],
   "id": "28bad1ec2b887802",
   "outputs": [
    {
     "name": "stdout",
     "output_type": "stream",
     "text": [
      "Gold       28\n",
      "Silver     24\n",
      "Bronze     17\n",
      "Total       0\n",
      "Country     0\n",
      "dtype: int64\n"
     ]
    }
   ],
   "execution_count": 14
  },
  {
   "metadata": {},
   "cell_type": "markdown",
   "source": "",
   "id": "f21e06f50061ea95"
  },
  {
   "metadata": {
    "ExecuteTime": {
     "end_time": "2025-06-24T01:43:51.833098Z",
     "start_time": "2025-06-24T01:43:51.827418Z"
    }
   },
   "cell_type": "code",
   "source": [
    "\"Exportar archivo nuevo\"\n",
    "medallas_renombrado.to_csv(\"nuevodf.csv\",index=False)"
   ],
   "id": "ad2ee6c052493364",
   "outputs": [],
   "execution_count": 15
  },
  {
   "metadata": {
    "ExecuteTime": {
     "end_time": "2025-06-24T01:45:04.195827Z",
     "start_time": "2025-06-24T01:45:04.191794Z"
    }
   },
   "cell_type": "code",
   "source": [
    "\"\"\"Cambiar valores nulos por 0\"\"\"\n",
    "medallas_renombrado= medallas_renombrado.fillna(0)"
   ],
   "id": "21bcf5e13f188e34",
   "outputs": [],
   "execution_count": 16
  },
  {
   "metadata": {
    "ExecuteTime": {
     "end_time": "2025-06-24T01:45:21.711661Z",
     "start_time": "2025-06-24T01:45:21.706892Z"
    }
   },
   "cell_type": "code",
   "source": [
    "\"\"\"Mostrar sumatoria de valores nulos\"\"\"\n",
    "print(medallas_renombrado.isnull().sum())"
   ],
   "id": "b64ad9ed31b9cda3",
   "outputs": [
    {
     "name": "stdout",
     "output_type": "stream",
     "text": [
      "Gold       0\n",
      "Silver     0\n",
      "Bronze     0\n",
      "Total      0\n",
      "Country    0\n",
      "dtype: int64\n"
     ]
    }
   ],
   "execution_count": 17
  }
 ],
 "metadata": {
  "kernelspec": {
   "display_name": "Python 3",
   "language": "python",
   "name": "python3"
  },
  "language_info": {
   "codemirror_mode": {
    "name": "ipython",
    "version": 2
   },
   "file_extension": ".py",
   "mimetype": "text/x-python",
   "name": "python",
   "nbconvert_exporter": "python",
   "pygments_lexer": "ipython2",
   "version": "2.7.6"
  }
 },
 "nbformat": 4,
 "nbformat_minor": 5
}
