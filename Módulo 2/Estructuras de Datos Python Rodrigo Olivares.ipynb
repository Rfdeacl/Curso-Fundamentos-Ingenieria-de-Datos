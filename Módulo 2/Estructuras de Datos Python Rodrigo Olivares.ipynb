{
 "cells": [
  {
   "cell_type": "code",
   "id": "initial_id",
   "metadata": {
    "collapsed": true,
    "ExecuteTime": {
     "end_time": "2025-06-15T21:05:01.708271Z",
     "start_time": "2025-06-15T21:05:01.703186Z"
    }
   },
   "source": [
    "class AnalizadorFinanciero:\n",
    "\n",
    "    # Calcula el total de ingresos en una lista de transacciones\n",
    "    def calcular_total_ingresos(self, transacciones):\n",
    "        total = 0\n",
    "        for ingreso in transacciones:\n",
    "            total += ingreso\n",
    "        return total\n",
    "\n",
    "    # Filtra y retorna solo los ingresos mayores a un umbra dado\n",
    "    def filtrar_ingresos_altos(self, transacciones, umbral):\n",
    "        ingresos_altos = []\n",
    "        for ingreso in transacciones:\n",
    "            if ingreso > umbral:\n",
    "                ingresos_altos.append(ingreso)\n",
    "\n",
    "        return ingresos_altos\n",
    "\n",
    "    # Agrupa ingresos en un diccionario por categorías\n",
    "\n",
    "    def agrupar_por_categoria(self, transacciones,categorias):\n",
    "        agrupado = {}\n",
    "        for categoria, ingreso in zip(categorias,transacciones):\n",
    "            if categoria in agrupado:(\n",
    "            agrupado[categoria].append(ingreso))\n",
    "            else:\n",
    "                agrupado[categoria] = [ingreso]\n",
    "\n",
    "        return agrupado"
   ],
   "outputs": [],
   "execution_count": 2
  },
  {
   "metadata": {},
   "cell_type": "markdown",
   "source": "1.-Análisis de la Estructura de Datos",
   "id": "96f223a7d035be4e"
  },
  {
   "metadata": {},
   "cell_type": "markdown",
   "source": [
    "Primero la lista de ingresos altos nos ayuda a agregar de manera mutable los ingresos en transsacciones que superen el umbral.\n",
    "\n",
    "La ventaja para almacenar transc\n",
    "\n",
    "Por otro lado el diccionario de agrupado nos permite agrupar una clave en este caso la categoria a cierto ingreso, por lo que funciona para poder llevar un control de este.\n",
    "aparte que los diccionarios nos permite agregar distintas claves para realizarlo escalable.\n"
   ],
   "id": "c4dcee925fc5388d"
  },
  {
   "metadata": {},
   "cell_type": "code",
   "outputs": [],
   "execution_count": null,
   "source": "",
   "id": "6dae3294b34f056a"
  },
  {
   "metadata": {},
   "cell_type": "markdown",
   "source": "Como Limitaciones del código de la empresa en cuestion, las listas no permiten almacenar múltiples atributos relacionados con una transacción como fecha o usuario, lo que dificulta el análisis detallado y estructurado. Por otro lado, los diccionarios funcionan bien para agrupaciones simples, pero se vuelven difíciles de manejar cuando se requiere categorización por múltiples criterios o relaciones más complejas entre datos. Una mejora recomendada sería implementar clases con @dataclass para representar cada transacción como un objeto con propiedades claras, lo cual mejora la organización y escalabilidad del código",
   "id": "5aa39bf5fa32fe93"
  },
  {
   "metadata": {},
   "cell_type": "markdown",
   "source": "2.-Optimizarcalcular_total_ingresos() y filtrar_ingresos_altos()\n",
   "id": "b9f01c9f3e134e3d"
  },
  {
   "metadata": {},
   "cell_type": "markdown",
   "source": "Para Optimizar la primera funcion se puede evitar utilizar el ciclo for y utilizar un sum, y para la 2da función una comprensión de lista.",
   "id": "e9a76444b641a396"
  },
  {
   "metadata": {
    "ExecuteTime": {
     "end_time": "2025-06-15T21:41:22.588860Z",
     "start_time": "2025-06-15T21:41:22.586131Z"
    }
   },
   "cell_type": "code",
   "source": [
    "def filtrar_ingresos_altos(self, transacciones, umbral):\n",
    "    ingresos_altos = [ingreso for ingreso in transacciones if ingreso > umbral]\n",
    "    return ingresos_altos"
   ],
   "id": "5d02c6786ed31400",
   "outputs": [],
   "execution_count": 23
  },
  {
   "metadata": {
    "ExecuteTime": {
     "end_time": "2025-06-15T21:46:12.317704Z",
     "start_time": "2025-06-15T21:46:12.315180Z"
    }
   },
   "cell_type": "code",
   "source": [
    "    def calcular_total_ingresos(self, transacciones):\n",
    "        total = sum(transacciones)\n",
    "        return total"
   ],
   "id": "4fc89795fcd9e7a5",
   "outputs": [],
   "execution_count": 25
  },
  {
   "metadata": {},
   "cell_type": "markdown",
   "source": "3.-Validación de funciones.",
   "id": "affb608a48c15809"
  },
  {
   "metadata": {
    "ExecuteTime": {
     "end_time": "2025-06-15T21:30:15.297936Z",
     "start_time": "2025-06-15T21:30:15.295166Z"
    }
   },
   "cell_type": "code",
   "source": [
    "#Prueba de calcular total ingresos()\n",
    "\"\"\"Prueba de Función\"\"\"\n",
    "resultado = analizador.calcular_total_ingresos([100, 200, 300])\n",
    "print(\"Resultado obtenido Prueba de Función:\", resultado)\n",
    "\n",
    "\n",
    "\"\"\"Prueba Lista vacia\"\"\"\n",
    "resultado = analizador.calcular_total_ingresos([])\n",
    "print(\"Resultado Lista vacia\", resultado)\n",
    "\n",
    "\"\"\"Prueba Con decimales\"\"\"\n",
    "resultado = analizador.calcular_total_ingresos([923.99, 100.0177])\n",
    "print(\"Resultado Con decimales:\", resultado)"
   ],
   "id": "84bd3a2c5eec9ae6",
   "outputs": [
    {
     "name": "stdout",
     "output_type": "stream",
     "text": [
      "Resultado obtenido Prueba de Función: 600\n",
      "Resultado Lista vacia 0\n",
      "Resultado Con decimales: 1024.0077\n"
     ]
    }
   ],
   "execution_count": 14
  },
  {
   "metadata": {
    "ExecuteTime": {
     "end_time": "2025-06-15T21:32:09.145024Z",
     "start_time": "2025-06-15T21:32:09.140578Z"
    }
   },
   "cell_type": "code",
   "source": [
    "#Prueba de filtrar_ingresos_altos()\n",
    "\"\"\"Prueba de Función\"\"\"\n",
    "resultado = analizador.filtrar_ingresos_altos([100, 200, 300],150)\n",
    "print(f\"El resultado es {resultado}\")\n",
    "\n",
    "#Prueba de filtrar_ingresos_altos()\n",
    "\"\"\"Prueba de Función\"\"\"\n",
    "resultado = analizador.filtrar_ingresos_altos([100, 200, 300], 400)\n",
    "print(f\"El resultado es {resultado}\")\n"
   ],
   "id": "af60edab6f426af9",
   "outputs": [
    {
     "name": "stdout",
     "output_type": "stream",
     "text": [
      "El resultado es [200, 300]\n",
      "El resultado es []\n"
     ]
    }
   ],
   "execution_count": 20
  },
  {
   "metadata": {
    "ExecuteTime": {
     "end_time": "2025-06-15T21:33:38.371595Z",
     "start_time": "2025-06-15T21:33:38.368202Z"
    }
   },
   "cell_type": "code",
   "source": [
    "#Prueba de agrupar_por_categoria()\n",
    "resultado = analizador.agrupar_por_categoria([100, 200, 300, 400], ['salario', 'venta', 'salario', 'bono'])\n",
    "print(f\"El resultado es {resultado}\")"
   ],
   "id": "ad10c3d00709a84e",
   "outputs": [
    {
     "name": "stdout",
     "output_type": "stream",
     "text": [
      "El resultado es {'salario': [100, 300], 'venta': [200], 'bono': [400]}\n"
     ]
    }
   ],
   "execution_count": 21
  },
  {
   "metadata": {},
   "cell_type": "markdown",
   "source": [
    "Como se puede apreciar en las pruebas las funciones realizan correctamente lo esperado.\n",
    "La primera al sumar el total.\n",
    "la 2da al solo agregar los valores por sobre el umbral declarado.\n",
    "y finalmente como la última función agura correctamente los valores por la categoría declarada."
   ],
   "id": "a03acd8d59a7b510"
  },
  {
   "metadata": {},
   "cell_type": "markdown",
   "source": [
    "4.- Conjunto de Sets.\n",
    "\n",
    "Los sets son colecciones desordenadas de elementos únicos. Se utilizan para\n",
    "operaciones de conjuntos matemáticos.\n"
   ],
   "id": "efea3165dd87f173"
  },
  {
   "metadata": {},
   "cell_type": "markdown",
   "source": [
    "CARACTERÍSTICAS DE UN SET\n",
    "Desordenados: No mantienen un orden específico.\n",
    "Elementos únicos: No permiten duplicados.\n",
    "Mutables: Pueden agregar o eliminar elementos."
   ],
   "id": "d44ba9373380733f"
  },
  {
   "metadata": {},
   "cell_type": "markdown",
   "source": "Como no permite duplicados de categorias, estos sets servirian para solo considerar valores únicos.",
   "id": "eb2098d74b1a0087"
  },
  {
   "metadata": {},
   "cell_type": "markdown",
   "source": "5.-Refactorización de Código",
   "id": "3a34d5c815a92fa6"
  },
  {
   "metadata": {
    "ExecuteTime": {
     "end_time": "2025-06-15T21:53:44.487351Z",
     "start_time": "2025-06-15T21:53:44.481820Z"
    }
   },
   "cell_type": "code",
   "source": [
    "class AnalizadorFinanciero:\n",
    "\n",
    "    # Calcula el total de ingresos en una lista de transacciones\n",
    "    def calcular_total_ingresos(self, transacciones):\n",
    "        total = sum(transacciones)\n",
    "        return total\n",
    "\n",
    "    # Filtra y retorna solo los ingresos mayores a un umbra dado\n",
    "    def filtrar_ingresos_altos(self, transacciones, umbral):\n",
    "        ingresos_altos = [ingreso for ingreso in transacciones if ingreso > umbral]\n",
    "        return ingresos_altos\n",
    "\n",
    "        return ingresos_altos\n",
    "\n",
    "    # Agrupa ingresos en un diccionario por categorías\n",
    "\n",
    "    def agrupar_por_categoria(self, transacciones,categorias):\n",
    "        agrupado = {}\n",
    "        for categoria, ingreso in zip(categorias,transacciones):\n",
    "            if categoria in agrupado:(\n",
    "            agrupado[categoria].append(ingreso))\n",
    "            else:\n",
    "                agrupado[categoria] = [ingreso]\n",
    "\n",
    "        return agrupado"
   ],
   "id": "6cdcf7717b8cb5f",
   "outputs": [],
   "execution_count": 26
  }
 ],
 "metadata": {
  "kernelspec": {
   "display_name": "Python 3",
   "language": "python",
   "name": "python3"
  },
  "language_info": {
   "codemirror_mode": {
    "name": "ipython",
    "version": 2
   },
   "file_extension": ".py",
   "mimetype": "text/x-python",
   "name": "python",
   "nbconvert_exporter": "python",
   "pygments_lexer": "ipython2",
   "version": "2.7.6"
  }
 },
 "nbformat": 4,
 "nbformat_minor": 5
}
